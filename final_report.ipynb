{
 "cells": [
  {
   "cell_type": "markdown",
   "id": "1ea1fa39-ab28-4cdd-8079-e7638270f42a",
   "metadata": {},
   "source": [
    "# THE LANGUAGE of LIFE EXPECTANCY: \n",
    "\n",
    "#### A Natural Language Processing Evaluation of GitHub Repository Content Programming Language"
   ]
  },
  {
   "cell_type": "markdown",
   "id": "05f9b74c-6b47-44c6-a107-c514197e6e4b",
   "metadata": {},
   "source": [
    "---"
   ]
  },
  {
   "cell_type": "markdown",
   "id": "3608c6c5-e218-4c88-a9fe-00589976a771",
   "metadata": {},
   "source": [
    "**Natural Language Processing Project & Final Report Created By:**  \n",
    "\n",
    "Chris Teceno, Rachel Robbins-Mayhill, Kristofer Rivera     \n",
    "  Codeup     **|**     Innis Cohort     **|**     May 2022  "
   ]
  },
  {
   "cell_type": "markdown",
   "id": "a962d765-9613-4ada-802f-819bff4d656f",
   "metadata": {},
   "source": [
    "<img src='languages.png' width='1500' height='700' align='center'/>"
   ]
  },
  {
   "cell_type": "markdown",
   "id": "a5c1cdad-8a61-47b6-91f8-1951c69809b2",
   "metadata": {},
   "source": [
    "Rubric (total 50 points):\n",
    "\n",
    "- 10 points: Overall documentation and code style\n",
    "- 10 points: Data from at least 100 repos is gathered in a reproducible manner\n",
    "- 10 points: Data is prepared into a format that can be worked with further\n",
    "- 10 points: Data Exploration is performed, hypothesis are tested and visualizations are created\n",
    "- 10 points: Different methods of data preprocessing and different types of models are evaluated with a chosen evaluation metric for predicting repo language from README content."
   ]
  },
  {
   "cell_type": "markdown",
   "id": "222d56e3-72e6-4f11-b805-bafc985ada84",
   "metadata": {},
   "source": [
    "## Project Goal\n",
    "The goal of this project is to build a Natural Language Processing (NLP) model that can predict the programming language of projects within specified GitHub repositories, given the text of a README.md file. "
   ]
  },
  {
   "cell_type": "markdown",
   "id": "96ac48c5-edc3-4d86-a51a-cbab608764da",
   "metadata": {},
   "source": [
    "## Project Description\n",
    "\n",
    "This project was initiated by utilizing web scraping techniques to scrape README files from specified GitHub repositories focused on Life Expectancy projects. The 166 most starred Life Expectancy Repositories, as of May 14, 2022, were used as the documents within the corpus for this NLP project.\n",
    "\n",
    "After acquiring and preparing the corpus, our team conducted natural language processing exploration methods such as word clouds and bigrams. We employed multiclass classification methods to create multiple machine learning models. The end goal was to create an NLP model that accurately predicted the programming language used in a GitHub repository based on the words and word combinations found in the readme files."
   ]
  },
  {
   "cell_type": "markdown",
   "id": "5c2c1257-dbb7-4988-9b49-dbb075f6d9aa",
   "metadata": {},
   "source": [
    "## Initial Thoughts & Hypothesis: \n",
    "\n"
   ]
  },
  {
   "cell_type": "markdown",
   "id": "dafad504-3d3d-466a-a91f-37ef6169c85c",
   "metadata": {},
   "source": [
    "The initial hypothesis of the project was that repositories using Python would have a higher average word count in comparison to other programming languages. The thought behind this was Python is known for its focus on documentation and has a robust community to support consistent expectations for documentation. We also thought programing languages would have distinct unique words and bigrams (word pairs) that would differentiate one from the other. These thoughts and the subsequent hypothesis drove the initial exploratory questions for this project."
   ]
  },
  {
   "cell_type": "markdown",
   "id": "807d0f57-14a5-4c70-9f9e-53e586e6e140",
   "metadata": {},
   "source": [
    "## Initial Questions:\n",
    "\n",
    "1. What are the most frequently occuring words?\n",
    "2. Do certain coding languages have more unique words?\n",
    "3. What are the most frequently occuring bigrams (pairs of words)?\n",
    "4. Are there any bigrams that uniquely identify one of the coding langauges?\n",
    "5. Is word count within the README significantly different between the top 4 programming langauges?"
   ]
  },
  {
   "cell_type": "markdown",
   "id": "6554f95a-4355-4ae8-a485-c8fc991df4d4",
   "metadata": {},
   "source": [
    "## EXECUTIVE SUMMARY\n",
    "\n",
    "NEED TO COMPLETE\n",
    "\n",
    "The key findings for this presentation are available in slide format by clicking on the [Final Slide Presentation](https://docs.google.com/presentation/d/1nCXdPCZY16jplddBFYq8YxPd1t2k0y3LHmHjmiocjGQ/edit?usp=sharing)."
   ]
  },
  {
   "cell_type": "markdown",
   "id": "c16b4088-318d-4003-835b-2db459130f6e",
   "metadata": {},
   "source": [
    "==============================================================================================================================================="
   ]
  },
  {
   "cell_type": "markdown",
   "id": "140a858d-58a9-46f3-b8a1-3ea7f5c56652",
   "metadata": {},
   "source": [
    "## I. ACQUIRE"
   ]
  },
  {
   "cell_type": "markdown",
   "id": "92ef3e24-6c5e-4ca4-aecb-5320514bc342",
   "metadata": {},
   "source": [
    "### Note about imports:"
   ]
  },
  {
   "cell_type": "markdown",
   "id": "20b82a20-3e3d-48c9-b6e6-c7054113b585",
   "metadata": {},
   "source": [
    "Imports for this project are added in the sections in which they are required."
   ]
  },
  {
   "cell_type": "code",
   "execution_count": 1,
   "id": "a34e1ade-c133-4eb2-88c3-d951b92107ac",
   "metadata": {},
   "outputs": [],
   "source": [
    "# import for acquisition\n",
    "import os\n",
    "import json\n",
    "import requests\n",
    "import wrangle\n",
    "import model\n",
    "from env import github_token, github_username\n",
    "\n",
    "# import for data manipulation\n",
    "import pandas as pd\n",
    "import numpy as np\n",
    "from typing import Dict, List, Optional, Union, cast\n",
    "\n",
    "# import to ignore warnings\n",
    "import warnings\n",
    "warnings.filterwarnings('ignore')"
   ]
  },
  {
   "cell_type": "code",
   "execution_count": 2,
   "id": "cd0001cf-72d7-4ca9-ac86-14ce8776215e",
   "metadata": {},
   "outputs": [
    {
     "data": {
      "text/html": [
       "<div>\n",
       "<style scoped>\n",
       "    .dataframe tbody tr th:only-of-type {\n",
       "        vertical-align: middle;\n",
       "    }\n",
       "\n",
       "    .dataframe tbody tr th {\n",
       "        vertical-align: top;\n",
       "    }\n",
       "\n",
       "    .dataframe thead th {\n",
       "        text-align: right;\n",
       "    }\n",
       "</style>\n",
       "<table border=\"1\" class=\"dataframe\">\n",
       "  <thead>\n",
       "    <tr style=\"text-align: right;\">\n",
       "      <th></th>\n",
       "      <th>repo</th>\n",
       "      <th>language</th>\n",
       "      <th>readme_contents</th>\n",
       "    </tr>\n",
       "  </thead>\n",
       "  <tbody>\n",
       "    <tr>\n",
       "      <th>0</th>\n",
       "      <td>mcastrolab/Brazil-Covid19-e0-change</td>\n",
       "      <td>R</td>\n",
       "      <td># Reduction in life expectancy in Brazil after...</td>\n",
       "    </tr>\n",
       "    <tr>\n",
       "      <th>1</th>\n",
       "      <td>jschoeley/de0anim</td>\n",
       "      <td>R</td>\n",
       "      <td># Animated annual changes in life-expectancy\\n...</td>\n",
       "    </tr>\n",
       "    <tr>\n",
       "      <th>2</th>\n",
       "      <td>sychi77/Thoracic_Surgery_Patient_Survival</td>\n",
       "      <td>Jupyter Notebook</td>\n",
       "      <td># Thoracic Surgery for Lung Cancer Data Set\\n ...</td>\n",
       "    </tr>\n",
       "    <tr>\n",
       "      <th>3</th>\n",
       "      <td>ashtad63/HackerRank-Data-Scientist-Hiring-Test</td>\n",
       "      <td>Jupyter Notebook</td>\n",
       "      <td># HackerRank Data Scientist Hiring Test: Predi...</td>\n",
       "    </tr>\n",
       "    <tr>\n",
       "      <th>4</th>\n",
       "      <td>OxfordDemSci/ex2020</td>\n",
       "      <td>R</td>\n",
       "      <td>&lt;p align=\"center\"&gt;\\n  &lt;img src=\"https://github...</td>\n",
       "    </tr>\n",
       "  </tbody>\n",
       "</table>\n",
       "</div>"
      ],
      "text/plain": [
       "                                             repo          language  \\\n",
       "0             mcastrolab/Brazil-Covid19-e0-change                 R   \n",
       "1                               jschoeley/de0anim                 R   \n",
       "2       sychi77/Thoracic_Surgery_Patient_Survival  Jupyter Notebook   \n",
       "3  ashtad63/HackerRank-Data-Scientist-Hiring-Test  Jupyter Notebook   \n",
       "4                             OxfordDemSci/ex2020                 R   \n",
       "\n",
       "                                     readme_contents  \n",
       "0  # Reduction in life expectancy in Brazil after...  \n",
       "1  # Animated annual changes in life-expectancy\\n...  \n",
       "2  # Thoracic Surgery for Lung Cancer Data Set\\n ...  \n",
       "3  # HackerRank Data Scientist Hiring Test: Predi...  \n",
       "4  <p align=\"center\">\\n  <img src=\"https://github...  "
      ]
     },
     "execution_count": 2,
     "metadata": {},
     "output_type": "execute_result"
    }
   ],
   "source": [
    "# acquire data from .json saved and processed using functions found in wrangle.py\n",
    "df = pd.read_json(\"data.json\")\n",
    "df.head()"
   ]
  },
  {
   "cell_type": "code",
   "execution_count": 3,
   "id": "74ae14e9-26fa-4547-950c-1a1590502dc5",
   "metadata": {},
   "outputs": [
    {
     "data": {
      "text/plain": [
       "(166, 3)"
      ]
     },
     "execution_count": 3,
     "metadata": {},
     "output_type": "execute_result"
    }
   ],
   "source": [
    "# obtain number of columns and rows for original dataframe\n",
    "df.shape"
   ]
  },
  {
   "cell_type": "markdown",
   "id": "64848218-ea03-4067-8c3d-a65e32bffdd5",
   "metadata": {},
   "source": [
    "## The Original DataFrame Size: 166 rows, or documents, and 3 columns."
   ]
  },
  {
   "cell_type": "markdown",
   "id": "37c0bfbe-994a-4def-9f39-301eac61eb01",
   "metadata": {},
   "source": [
    "================================================================================================================================================================================================================================="
   ]
  },
  {
   "cell_type": "markdown",
   "id": "76b50157-99f6-4539-9489-bdb1387b171f",
   "metadata": {},
   "source": [
    "## II. PREPARE"
   ]
  },
  {
   "cell_type": "markdown",
   "id": "2b790cd2-4448-4951-ae63-ce33de70545c",
   "metadata": {},
   "source": [
    "After data acquisition, the table was analyzed and cleaned to facilitate functional exploration and clarify variable confusion. The preparation of this data can be replicated using the prep_data  function saved within the prepare.py file inside the 'NLP-Project' repository on GitHub. The function takes in the original data.json dataframe and returns it with the changes noted below.\n",
    "\n",
    "**Steps Taken to Clean & Prepare Data:**\n",
    "\n",
    "- Basic Cleaning: \n",
    "    - Make all text lowercase\n",
    "    - Normalize, encode, and decode to remove accented text and special characters\n",
    "    - Tokenize strings to break words and punctuation into discrete units\n",
    "    - Stem and Lemmatize words to acquire base words\n",
    "    - Remove stopwords\n",
    "    - Rename columns\n",
    "---   \n",
    "- Address missing values, data errors, unnecessary data, and unclear values:\n",
    "    - Replace Jupyter Notebook values with Python after manually verifying most Jupyter Notebook entires used the Python programming language \n",
    "    - Drop missing values to prevent impediments in exploration and modeling: 9 documents/observations that had null values in the language column \n",
    "    - Drop all rows where README length was 0\n",
    "    - Total dropped documents = 32\n",
    "---    \n",
    "- Create feature engineered columns:\n",
    "    - unique words\n",
    "    - character count\n",
    "    - word count\n",
    "    - unique word count\n",
    "    - most common word count (2nd, 3rd, 4th, 5th most common)\n",
    "\n",
    "---\n",
    "- Split corpus into train, validate, and test samples\n",
    "\n",
    "**Note on Missing Value Handling:**\n",
    "The missing value removal equated to removing 9 observations/documents, which was about 9\\% of the data set. It still left a substantial number of observations above the minimum expectation of 100. If given more time with the data, it is recommended to investigate other ways to impute the missing data."
   ]
  },
  {
   "cell_type": "markdown",
   "id": "913212cd-4acf-4a42-b6b5-2afac70d3e12",
   "metadata": {},
   "source": [
    "---"
   ]
  },
  {
   "cell_type": "markdown",
   "id": "5ca494ea-7dd3-44e0-8278-39dddd9c7d8a",
   "metadata": {},
   "source": [
    "### Results of Data Preparation"
   ]
  },
  {
   "cell_type": "code",
   "execution_count": 4,
   "id": "a1554f69-2b49-464b-804a-c8daa792d2b3",
   "metadata": {},
   "outputs": [],
   "source": [
    "# import for prepare\n",
    "import prepare\n",
    "import unicodedata\n",
    "import re\n",
    "\n",
    "import nltk\n",
    "from nltk.tokenize.toktok import ToktokTokenizer\n",
    "from nltk.corpus import stopwords\n",
    "\n",
    "from time import strftime\n",
    "from sklearn.model_selection import train_test_split\n",
    "from sklearn.preprocessing import RobustScaler\n",
    "from collections import Counter"
   ]
  },
  {
   "cell_type": "code",
   "execution_count": 5,
   "id": "4afd29ca-232d-45af-b3db-81a53e3a26c5",
   "metadata": {},
   "outputs": [
    {
     "name": "stdout",
     "output_type": "stream",
     "text": [
      "(134, 13)\n"
     ]
    },
    {
     "data": {
      "text/html": [
       "<div>\n",
       "<style scoped>\n",
       "    .dataframe tbody tr th:only-of-type {\n",
       "        vertical-align: middle;\n",
       "    }\n",
       "\n",
       "    .dataframe tbody tr th {\n",
       "        vertical-align: top;\n",
       "    }\n",
       "\n",
       "    .dataframe thead th {\n",
       "        text-align: right;\n",
       "    }\n",
       "</style>\n",
       "<table border=\"1\" class=\"dataframe\">\n",
       "  <thead>\n",
       "    <tr style=\"text-align: right;\">\n",
       "      <th></th>\n",
       "      <th>repo</th>\n",
       "      <th>language</th>\n",
       "      <th>original</th>\n",
       "      <th>more_clean</th>\n",
       "      <th>unique_words</th>\n",
       "      <th>char_count</th>\n",
       "      <th>word_count</th>\n",
       "      <th>unique_word_count</th>\n",
       "      <th>most_common_word</th>\n",
       "      <th>2nd_most_common_word</th>\n",
       "      <th>3rd_most_common_word</th>\n",
       "      <th>4th_most_common_word</th>\n",
       "      <th>5th_most_common_word</th>\n",
       "    </tr>\n",
       "  </thead>\n",
       "  <tbody>\n",
       "    <tr>\n",
       "      <th>0</th>\n",
       "      <td>mcastrolab/Brazil-Covid19-e0-change</td>\n",
       "      <td>R</td>\n",
       "      <td># Reduction in life expectancy in Brazil after...</td>\n",
       "      <td>reduction life expectancy brazil covid provide...</td>\n",
       "      <td>de since impacted absence marcia fig region pu...</td>\n",
       "      <td>2949</td>\n",
       "      <td>352</td>\n",
       "      <td>211</td>\n",
       "      <td>life</td>\n",
       "      <td>expectancy</td>\n",
       "      <td>covid</td>\n",
       "      <td>state</td>\n",
       "      <td>data</td>\n",
       "    </tr>\n",
       "    <tr>\n",
       "      <th>1</th>\n",
       "      <td>jschoeley/de0anim</td>\n",
       "      <td>R</td>\n",
       "      <td># Animated annual changes in life-expectancy\\n...</td>\n",
       "      <td>animated annual change lifeexpectancy illustra...</td>\n",
       "      <td>life paper result forthcoming degif animated c...</td>\n",
       "      <td>166</td>\n",
       "      <td>16</td>\n",
       "      <td>16</td>\n",
       "      <td>animated</td>\n",
       "      <td>annual</td>\n",
       "      <td>change</td>\n",
       "      <td>lifeexpectancy</td>\n",
       "      <td>illustration</td>\n",
       "    </tr>\n",
       "    <tr>\n",
       "      <th>2</th>\n",
       "      <td>sychi77/Thoracic_Surgery_Patient_Survival</td>\n",
       "      <td>Python</td>\n",
       "      <td># Thoracic Surgery for Lung Cancer Data Set\\n ...</td>\n",
       "      <td>thoracic surgery lung cancer data set uci mach...</td>\n",
       "      <td>thoracicsurgery uci taking survival thoracicsu...</td>\n",
       "      <td>2058</td>\n",
       "      <td>234</td>\n",
       "      <td>150</td>\n",
       "      <td>surgery</td>\n",
       "      <td>f</td>\n",
       "      <td>data</td>\n",
       "      <td>lung</td>\n",
       "      <td>thoracic</td>\n",
       "    </tr>\n",
       "    <tr>\n",
       "      <th>3</th>\n",
       "      <td>ashtad63/HackerRank-Data-Scientist-Hiring-Test</td>\n",
       "      <td>Python</td>\n",
       "      <td># HackerRank Data Scientist Hiring Test: Predi...</td>\n",
       "      <td>hackerrank data scientist hiring test predict ...</td>\n",
       "      <td>represents big region could prediction decidin...</td>\n",
       "      <td>1011</td>\n",
       "      <td>135</td>\n",
       "      <td>86</td>\n",
       "      <td>country</td>\n",
       "      <td>life</td>\n",
       "      <td>expectancy</td>\n",
       "      <td>must</td>\n",
       "      <td>test</td>\n",
       "    </tr>\n",
       "    <tr>\n",
       "      <th>4</th>\n",
       "      <td>OxfordDemSci/ex2020</td>\n",
       "      <td>R</td>\n",
       "      <td>&lt;p align=\"center\"&gt;\\n  &lt;img src=\"https://github...</td>\n",
       "      <td>p aligncenter img srchttpsgithubcomoxforddemsc...</td>\n",
       "      <td>herehttpswwwmedrxivorgcontent undertaking src ...</td>\n",
       "      <td>2259</td>\n",
       "      <td>234</td>\n",
       "      <td>172</td>\n",
       "      <td>data</td>\n",
       "      <td>relates</td>\n",
       "      <td>code</td>\n",
       "      <td>p</td>\n",
       "      <td>generic</td>\n",
       "    </tr>\n",
       "  </tbody>\n",
       "</table>\n",
       "</div>"
      ],
      "text/plain": [
       "                                             repo language  \\\n",
       "0             mcastrolab/Brazil-Covid19-e0-change        R   \n",
       "1                               jschoeley/de0anim        R   \n",
       "2       sychi77/Thoracic_Surgery_Patient_Survival   Python   \n",
       "3  ashtad63/HackerRank-Data-Scientist-Hiring-Test   Python   \n",
       "4                             OxfordDemSci/ex2020        R   \n",
       "\n",
       "                                            original  \\\n",
       "0  # Reduction in life expectancy in Brazil after...   \n",
       "1  # Animated annual changes in life-expectancy\\n...   \n",
       "2  # Thoracic Surgery for Lung Cancer Data Set\\n ...   \n",
       "3  # HackerRank Data Scientist Hiring Test: Predi...   \n",
       "4  <p align=\"center\">\\n  <img src=\"https://github...   \n",
       "\n",
       "                                          more_clean  \\\n",
       "0  reduction life expectancy brazil covid provide...   \n",
       "1  animated annual change lifeexpectancy illustra...   \n",
       "2  thoracic surgery lung cancer data set uci mach...   \n",
       "3  hackerrank data scientist hiring test predict ...   \n",
       "4  p aligncenter img srchttpsgithubcomoxforddemsc...   \n",
       "\n",
       "                                        unique_words  char_count  word_count  \\\n",
       "0  de since impacted absence marcia fig region pu...        2949         352   \n",
       "1  life paper result forthcoming degif animated c...         166          16   \n",
       "2  thoracicsurgery uci taking survival thoracicsu...        2058         234   \n",
       "3  represents big region could prediction decidin...        1011         135   \n",
       "4  herehttpswwwmedrxivorgcontent undertaking src ...        2259         234   \n",
       "\n",
       "   unique_word_count most_common_word 2nd_most_common_word  \\\n",
       "0                211             life           expectancy   \n",
       "1                 16         animated               annual   \n",
       "2                150          surgery                    f   \n",
       "3                 86          country                 life   \n",
       "4                172             data              relates   \n",
       "\n",
       "  3rd_most_common_word 4th_most_common_word 5th_most_common_word  \n",
       "0                covid                state                 data  \n",
       "1               change       lifeexpectancy         illustration  \n",
       "2                 data                 lung             thoracic  \n",
       "3           expectancy                 must                 test  \n",
       "4                 code                    p              generic  "
      ]
     },
     "execution_count": 5,
     "metadata": {},
     "output_type": "execute_result"
    }
   ],
   "source": [
    "# apply the data preparation observations and tasks to clean the data using the prep_data function found in the prepare.py\n",
    "df = prepare.prep_data(df)\n",
    "# view first few rows of dataframe\n",
    "# obtain the number of rows and columns for the updated/cleaned dataframe \n",
    "print(df.shape)\n",
    "df.head()"
   ]
  },
  {
   "cell_type": "markdown",
   "id": "3d254fef-dc05-4834-ad75-09ef95a6cd8d",
   "metadata": {},
   "source": [
    "## Prepared DataFrame Size: 134 rows, or documents, and 13 columns."
   ]
  },
  {
   "cell_type": "markdown",
   "id": "37d35601-337e-41fd-b855-a64d0ccb3b0f",
   "metadata": {},
   "source": [
    "---"
   ]
  },
  {
   "cell_type": "markdown",
   "id": "826a12d7-6226-4262-ab57-542407d5f3d5",
   "metadata": {},
   "source": [
    "### PREPARE - SPLIT"
   ]
  },
  {
   "cell_type": "code",
   "execution_count": 6,
   "id": "f4657d1d-6fca-4bcf-a664-28708838fc26",
   "metadata": {},
   "outputs": [],
   "source": [
    "# import for split\n",
    "from sklearn.model_selection import train_test_split"
   ]
  },
  {
   "cell_type": "markdown",
   "id": "363f395b-4e5c-426e-b786-1642b49955a0",
   "metadata": {},
   "source": [
    "After preparing the corpus, it was split into 3 samples; train, validate, and test using:\n",
    "\n",
    "- Random State: 123\n",
    "- Test = 20% of the original dataset\n",
    "- The remaining 80% of the dataset is divided between valiidate and train\n",
    "    - Validate (.30*.80) = 24% of the original dataset\n",
    "    - Train (.70*.80) = 56% of the original dataset\n",
    "    \n",
    "The split of this data can be replicated using the split_data function saved within the prepare.py file inside the [NLP-Project](https://github.com/Two-Guys-and-a-Gal/NLP-Project) repository on GitHub."
   ]
  },
  {
   "cell_type": "code",
   "execution_count": 7,
   "id": "4403163e-d21d-4f0e-a98f-bc599c2108b5",
   "metadata": {},
   "outputs": [
    {
     "data": {
      "text/plain": [
       "((74, 13), (33, 13), (27, 13))"
      ]
     },
     "execution_count": 7,
     "metadata": {},
     "output_type": "execute_result"
    }
   ],
   "source": [
    "# split the data into train, validate, and test using the split_data function found in the prepare.py\n",
    "train, validate, test = prepare.split_data(df)\n",
    "# obtain the number of rows and columns for the splits\n",
    "train.shape, validate.shape, test.shape"
   ]
  },
  {
   "cell_type": "markdown",
   "id": "0d6dd627-91d8-45cb-a096-5e87b3463862",
   "metadata": {},
   "source": [
    "================================================================================================================================================================================================================================="
   ]
  },
  {
   "cell_type": "markdown",
   "id": "25035c38-01ab-4765-b15b-cce6ef997567",
   "metadata": {},
   "source": [
    "## III. EXPLORE"
   ]
  },
  {
   "cell_type": "code",
   "execution_count": 8,
   "id": "8c095f8f-5615-46ef-b049-61d09f5bde29",
   "metadata": {},
   "outputs": [],
   "source": [
    "# import for data visualization\n",
    "import seaborn as sns\n",
    "from matplotlib import pyplot as plt\n",
    "from matplotlib.ticker import StrMethodFormatter\n",
    "from matplotlib import style\n",
    "from wordcloud import WordCloud\n",
    "import explore"
   ]
  },
  {
   "cell_type": "code",
   "execution_count": 9,
   "id": "0291e5b1-4961-4fa8-9d92-2bf31ac7bf9a",
   "metadata": {},
   "outputs": [],
   "source": [
    "# Set Universal Visualization Formatting\n",
    "\n",
    "# determine figure size\n",
    "plt.rc('figure', figsize=(20, 8))\n",
    "# determine font size\n",
    "plt.rc('font', size=15)\n",
    "# determine style\n",
    "plt.style.use('seaborn-deep')"
   ]
  },
  {
   "cell_type": "markdown",
   "id": "991ed45d-7b2d-4f13-a6ef-11b8de9aac86",
   "metadata": {},
   "source": [
    "After acquiring and preparing the corpus, exploration was conducted. All univariate exploration was completed on the entire cleaned corpus in the workbook for this project. For the purpose of the final report, only the target variable will be displayed in order to reduce noise and provide focused context for the project. Following univariate exploration, the split sets (train, validate, and test samples) were utilized thorugh modeling, where only the train set was used for bivariate and multivariate exploration to prevent data leakage."
   ]
  },
  {
   "cell_type": "markdown",
   "id": "cd0123f5-0e68-461a-8004-3a15a886f531",
   "metadata": {},
   "source": [
    "---"
   ]
  },
  {
   "cell_type": "markdown",
   "id": "a1858aec-739e-4642-9da8-b432d3b117b4",
   "metadata": {},
   "source": [
    "### UNIVARIATE EXPLORATION"
   ]
  },
  {
   "cell_type": "markdown",
   "id": "a461b779-bfe8-4746-a988-76637075afc4",
   "metadata": {},
   "source": [
    "#### UNIVARIATE EXPLORATION of TARGET VARIABLE"
   ]
  },
  {
   "cell_type": "code",
   "execution_count": 10,
   "id": "3d8de3d0-dab5-4e0a-a46c-4d49a04e9812",
   "metadata": {},
   "outputs": [
    {
     "data": {
      "image/png": "[encoded data removed]",
      "text/plain": [
       "<Figure size 1440x576 with 1 Axes>"
      ]
     },
     "metadata": {},
     "output_type": "display_data"
    }
   ],
   "source": [
    "# create visualization\n",
    "df.language.value_counts().plot(kind='pie', y='Language', autopct=\"%1.1f%%\")\n",
    "# remove y axis label\n",
    "plt.ylabel(None)\n",
    "#add title\n",
    "plt.title('Top 4 Programming Langauges Across Corpus by Percentage')\n",
    "plt.show()"
   ]
  },
  {
   "cell_type": "markdown",
   "id": "cf8241be-aaca-4a85-8d25-dad5013ee49d",
   "metadata": {},
   "source": [
    "**OBSERVATIONS:** \n",
    "- Python is the most common language, represented by 42\\% of the corpus, followed by Other at 24\\%, R at 19\\%, and HTML at 15\\%. "
   ]
  },
  {
   "cell_type": "markdown",
   "id": "06fc7981-9fa3-4c43-a5f1-d5ed00aa785e",
   "metadata": {},
   "source": [
    "---"
   ]
  },
  {
   "cell_type": "markdown",
   "id": "d49e691b-536a-4d40-9910-309c0cc2fb2d",
   "metadata": {},
   "source": [
    "### EXPLORATION"
   ]
  },
  {
   "cell_type": "markdown",
   "id": "3fc7a480-069c-4a91-b064-bb23b64174c1",
   "metadata": {},
   "source": [
    "All bivariate exploration was conducted on the train corpus to prevent data leakage. The initial questions and univariate exploration guided the bivariate exploration."
   ]
  },
  {
   "cell_type": "markdown",
   "id": "3a55ec59-fb86-4509-95c4-c08d96933394",
   "metadata": {},
   "source": [
    "#### EXPLORE QUESTIONS\n",
    "\n",
    "1. What are the most frequently occuring words?\n",
    "2. Are there any words that uniquely identify one of the coding langauges?\n",
    "3. What are the most frequently occuring bigrams (pairs of words)?\n",
    "4. Are there any bigrams that uniquely identify one of the coding langauges?\n",
    "5. Is word count within the README significantly different between the top 4 programming langauges?"
   ]
  },
  {
   "cell_type": "markdown",
   "id": "8bdb857b-77b2-420b-bdaa-d317b33d074c",
   "metadata": {},
   "source": [
    "### QUESTION 1: Most Frequent Words Overall\n",
    "What are the most frequently occuring words?"
   ]
  },
  {
   "cell_type": "code",
   "execution_count": 11,
   "id": "f4817087-a927-4597-a245-c0c53a6dff29",
   "metadata": {},
   "outputs": [
    {
     "data": {
      "image/png": "[encoded data removed]",
      "text/plain": [
       "<Figure size 1440x576 with 1 Axes>"
      ]
     },
     "metadata": {},
     "output_type": "display_data"
    }
   ],
   "source": [
    "# create visualization using the vis_one_a function found in the explore.py\n",
    "explore.vis_one_a()"
   ]
  },
  {
   "cell_type": "code",
   "execution_count": 12,
   "id": "ce5cb521-568b-46dd-a650-52c20ff009ec",
   "metadata": {},
   "outputs": [
    {
     "data": {
      "image/png": "[encoded data removed]",
      "text/plain": [
       "<Figure size 1440x576 with 1 Axes>"
      ]
     },
     "metadata": {},
     "output_type": "display_data"
    }
   ],
   "source": [
    "# create visualization using the vis_one_b function found in the explore.py\n",
    "explore.vis_one_b()"
   ]
  },
  {
   "cell_type": "markdown",
   "id": "f67335de-8b5e-4667-b966-26f1cc295962",
   "metadata": {},
   "source": [
    "#### ANSWER 1: Most Frequent Words\n",
    "\n",
    "The 5 most frequently occurring words within the train corpus are: year, country, expectancy, life and data. The words with the most frequency listed across all programming languages were code, project, age, file, year, expectancy, life, data, country, and model. The words that were not computer oriented, more focused on life expectancy and represented across the top four languages were age, year, expectancy, life, and country. The computer oriented words represented by the top four languages were code, project, file, data, and model. "
   ]
  },
  {
   "cell_type": "markdown",
   "id": "59a395f6-55dd-4a80-a5e6-41c4b54df51e",
   "metadata": {},
   "source": [
    "---"
   ]
  },
  {
   "cell_type": "markdown",
   "id": "31af4fd3-ca2b-4065-953f-eaefbc71cf20",
   "metadata": {},
   "source": [
    "### QUESTION 2: Unique Words\n",
    "Do certain coding languages have more unique words?"
   ]
  },
  {
   "cell_type": "code",
   "execution_count": 13,
   "id": "310c0b2f-d3a1-49a4-a710-a4582dccbb23",
   "metadata": {},
   "outputs": [
    {
     "data": {
      "image/png": "[encoded data removed]",
      "text/plain": [
       "<Figure size 1440x576 with 1 Axes>"
      ]
     },
     "metadata": {},
     "output_type": "display_data"
    }
   ],
   "source": [
    "# create visualization using the vis_two function found in the explore.py\n",
    "explore.vis_two()"
   ]
  },
  {
   "cell_type": "markdown",
   "id": "352d7395-cdb6-48e4-bc14-cc86fb66e387",
   "metadata": {},
   "source": [
    "#### ANSWER 2: Unique Words\n",
    "Python has considerably more unique words within the README files in comparison to the other top languages, with over 65, while Other, R, and HTML have fewer than 5.  "
   ]
  },
  {
   "cell_type": "markdown",
   "id": "149f0147-199f-4e93-ba4a-a2c755500f19",
   "metadata": {},
   "source": [
    "---"
   ]
  },
  {
   "cell_type": "markdown",
   "id": "ef662156-9fdd-4d5c-880e-b49cdd584c64",
   "metadata": {},
   "source": [
    "### QUESTION 3: Most Unique Bigrams (Word Pairs)\n",
    "Do certain coding languages have more unique bigrams?"
   ]
  },
  {
   "cell_type": "code",
   "execution_count": 14,
   "id": "1895ee58-de65-416f-bb93-f9e709c9ecec",
   "metadata": {},
   "outputs": [
    {
     "data": {
      "image/png": "[encoded data removed]",
      "text/plain": [
       "<Figure size 1440x576 with 1 Axes>"
      ]
     },
     "metadata": {},
     "output_type": "display_data"
    }
   ],
   "source": [
    "# create visualization using the vis_three function found in the explore.py\n",
    "explore.vis_three()"
   ]
  },
  {
   "cell_type": "markdown",
   "id": "08bd4c2e-fbcc-47e3-9619-4f7a45da26db",
   "metadata": {
    "tags": []
   },
   "source": [
    "#### ANSWER 3: Most Unique Bigrams \n",
    "R has considerably more unique bigrams within the README files in comparison to the other top languages, with over 40 pairs, while Python follows with 27, Other with 12, and HTML with 7 unique bigram pairs.  "
   ]
  },
  {
   "cell_type": "markdown",
   "id": "cf4ce063-794d-4d2e-b428-556e85e6013a",
   "metadata": {},
   "source": [
    "---"
   ]
  },
  {
   "cell_type": "markdown",
   "id": "c3d7755c-914d-42c1-8f55-e7ffce8451c7",
   "metadata": {},
   "source": [
    "### QUESTION 4: Unique Bigrams\n",
    "Are there any bigrams that uniquely identify one of the coding langauges?"
   ]
  },
  {
   "cell_type": "code",
   "execution_count": 15,
   "id": "1ee9ab54-ebd2-452e-b501-9eaed332f3a9",
   "metadata": {},
   "outputs": [
    {
     "data": {
      "image/png": "[encoded data removed]",
      "text/plain": [
       "<Figure size 2520x864 with 4 Axes>"
      ]
     },
     "metadata": {},
     "output_type": "display_data"
    }
   ],
   "source": [
    "# create visualization using the vis_four function found in the explore.py\n",
    "explore.vis_four()"
   ]
  },
  {
   "cell_type": "markdown",
   "id": "bf10e053-5f41-4e21-b5d8-e778e71759ed",
   "metadata": {},
   "source": [
    "#### ANSWER 4: Unique Bigrams"
   ]
  },
  {
   "cell_type": "code",
   "execution_count": null,
   "id": "d65449d1-ab53-4854-b4db-7d8cb6750880",
   "metadata": {},
   "outputs": [],
   "source": []
  },
  {
   "cell_type": "markdown",
   "id": "3e7dc138-9a1f-4dec-9a4f-ad28d686cc9b",
   "metadata": {},
   "source": [
    "---"
   ]
  },
  {
   "cell_type": "markdown",
   "id": "b5b7fa57-8864-4a90-9dca-f963beab1a0f",
   "metadata": {},
   "source": [
    "### QUESTION 5: Word Count\n",
    "Is word count within the README significantly different for R vs. all the programming langauges?"
   ]
  },
  {
   "cell_type": "code",
   "execution_count": 16,
   "id": "eca61fa0-79cc-43bb-9e4e-de7cea86759b",
   "metadata": {},
   "outputs": [
    {
     "data": {
      "image/png": "[encoded data removed]",
      "text/plain": [
       "<Figure size 1440x576 with 1 Axes>"
      ]
     },
     "metadata": {},
     "output_type": "display_data"
    }
   ],
   "source": [
    "# create visualization using the vis_five function found in the explore.py\n",
    "explore.vis_five()"
   ]
  },
  {
   "cell_type": "code",
   "execution_count": 17,
   "id": "66cf80a7-24a1-4280-ab35-fa4c2244561d",
   "metadata": {},
   "outputs": [
    {
     "data": {
      "text/html": [
       "<div>\n",
       "<style scoped>\n",
       "    .dataframe tbody tr th:only-of-type {\n",
       "        vertical-align: middle;\n",
       "    }\n",
       "\n",
       "    .dataframe tbody tr th {\n",
       "        vertical-align: top;\n",
       "    }\n",
       "\n",
       "    .dataframe thead th {\n",
       "        text-align: right;\n",
       "    }\n",
       "</style>\n",
       "<table border=\"1\" class=\"dataframe\">\n",
       "  <thead>\n",
       "    <tr style=\"text-align: right;\">\n",
       "      <th></th>\n",
       "      <th>min</th>\n",
       "      <th>mean</th>\n",
       "      <th>max</th>\n",
       "    </tr>\n",
       "    <tr>\n",
       "      <th>language</th>\n",
       "      <th></th>\n",
       "      <th></th>\n",
       "      <th></th>\n",
       "    </tr>\n",
       "  </thead>\n",
       "  <tbody>\n",
       "    <tr>\n",
       "      <th>HTML</th>\n",
       "      <td>1</td>\n",
       "      <td>63.769231</td>\n",
       "      <td>298</td>\n",
       "    </tr>\n",
       "    <tr>\n",
       "      <th>Other</th>\n",
       "      <td>7</td>\n",
       "      <td>131.062500</td>\n",
       "      <td>705</td>\n",
       "    </tr>\n",
       "    <tr>\n",
       "      <th>Python</th>\n",
       "      <td>1</td>\n",
       "      <td>148.235294</td>\n",
       "      <td>1229</td>\n",
       "    </tr>\n",
       "    <tr>\n",
       "      <th>R</th>\n",
       "      <td>14</td>\n",
       "      <td>319.000000</td>\n",
       "      <td>1284</td>\n",
       "    </tr>\n",
       "  </tbody>\n",
       "</table>\n",
       "</div>"
      ],
      "text/plain": [
       "          min        mean   max\n",
       "language                       \n",
       "HTML        1   63.769231   298\n",
       "Other       7  131.062500   705\n",
       "Python      1  148.235294  1229\n",
       "R          14  319.000000  1284"
      ]
     },
     "execution_count": 17,
     "metadata": {},
     "output_type": "execute_result"
    }
   ],
   "source": [
    "train.groupby(['language']).word_count.agg(['min', 'mean', 'max'])"
   ]
  },
  {
   "cell_type": "markdown",
   "id": "77e79c9a-e4f9-450b-8568-fa9cfd6ba9ad",
   "metadata": {},
   "source": [
    "#### Visualization Observations\n",
    "It appears through the visualization and summary statistics that the R language has a significantly higher word count in the README documents, at 319 average, followed by Python at 148 average word count, Other at 131, and HTML at 63.  Statistical testing will be conducted to verify statistical relevance of observations."
   ]
  },
  {
   "cell_type": "markdown",
   "id": "5df3a3c5-a65d-43c5-879d-4406e2bde953",
   "metadata": {},
   "source": [
    "---"
   ]
  },
  {
   "cell_type": "markdown",
   "id": "49862e5d-f2c3-4a79-b0f2-8609d6d75542",
   "metadata": {},
   "source": [
    "#### Statistical Testing"
   ]
  },
  {
   "cell_type": "code",
   "execution_count": 18,
   "id": "ee748f8c-81d5-4f5b-bd08-3c7c8778517d",
   "metadata": {},
   "outputs": [],
   "source": [
    "# import for statistical testing\n",
    "import scipy.stats as stats"
   ]
  },
  {
   "cell_type": "markdown",
   "id": "ff2550eb-d8f9-4901-91d6-d94d482d90d9",
   "metadata": {},
   "source": [
    "##### Evaluate Assumptions\n",
    "We are comparing the mean of 2 sub-samples. We will first evaluate for normal distribution using visualization and the shapiro test, then we will evaluate the length of both samples to evaluate size equivalency. "
   ]
  },
  {
   "cell_type": "markdown",
   "id": "7bf4b041-a0d9-40f8-b422-2e2ed35a1aab",
   "metadata": {},
   "source": [
    "- $H_0$: The variable IS normally distributed.\n",
    "- $H_α$: The variable IS NOT normally distributed."
   ]
  },
  {
   "cell_type": "markdown",
   "id": "f4193f19-72af-4568-a3a2-113f8ebc7d5b",
   "metadata": {},
   "source": [
    "##### Visualization"
   ]
  },
  {
   "cell_type": "code",
   "execution_count": 35,
   "id": "e0da1503",
   "metadata": {},
   "outputs": [
    {
     "data": {
      "text/plain": [
       "<AxesSubplot:title={'center':'R Language Word Count Distribution'}, ylabel='Frequency'>"
      ]
     },
     "execution_count": 35,
     "metadata": {},
     "output_type": "execute_result"
    },
    {
     "data": {
      "image/png": "[encoded data removed]",
      "text/plain": [
       "<Figure size 1440x576 with 1 Axes>"
      ]
     },
     "metadata": {},
     "output_type": "display_data"
    }
   ],
   "source": [
    "# we can graph the distribution of the word counts and see it is not normally distributed\n",
    "train[train.language == 'R'].word_count.plot(kind='hist', x='word_count', bins = 15, title='R Language Word Count Distribution')"
   ]
  },
  {
   "cell_type": "markdown",
   "id": "8c221cd2-9f9e-4c17-8a31-ccd2b4032eba",
   "metadata": {},
   "source": [
    "The visualization appears to be bi-modal and does does not have a normal distribution, therefore an ordinary T-Test is not appropriate for this context."
   ]
  },
  {
   "cell_type": "markdown",
   "id": "7a152a7d-db87-4465-b12f-0f2f0a9cc93a",
   "metadata": {},
   "source": [
    "##### Shapiro Test for Normality"
   ]
  },
  {
   "cell_type": "code",
   "execution_count": 19,
   "id": "ec20931f-d46c-46af-9f5b-fa2c92885cfd",
   "metadata": {},
   "outputs": [
    {
     "name": "stdout",
     "output_type": "stream",
     "text": [
      "Shapiro stats for R language: ShapiroResult(statistic=0.6387337446212769, pvalue=7.765278132865205e-05)\n",
      "Shapiro stats for all other languages: ShapiroResult(statistic=0.6153308153152466, pvalue=1.405044396801669e-11)\n"
     ]
    }
   ],
   "source": [
    "# assign variables for distribution/stats testing\n",
    "r_distribution = stats.shapiro(train[train.language == 'R'].word_count)\n",
    "all_other_distribution = stats.shapiro(train[train.language != 'R'].word_count)\n",
    "\n",
    "print(f'Shapiro stats for R language: {r_distribution}')\n",
    "print(f'Shapiro stats for all other languages: {all_other_distribution}')"
   ]
  },
  {
   "cell_type": "markdown",
   "id": "f842cd7e-0fe0-4451-842a-9e1ac752c572",
   "metadata": {},
   "source": [
    "The p-values are significant, indicating the assumption of normality is not met. "
   ]
  },
  {
   "cell_type": "markdown",
   "id": "3b1d1c61-82b8-4bbb-9c92-8a37d2f1d991",
   "metadata": {},
   "source": [
    "##### Comparison on Sample Sizes"
   ]
  },
  {
   "cell_type": "code",
   "execution_count": 20,
   "id": "6813a3f3-9a14-4b5d-9b08-b0cfb918f0ef",
   "metadata": {},
   "outputs": [
    {
     "name": "stdout",
     "output_type": "stream",
     "text": [
      "All Except R size: (63,)\n",
      "R size: (11,)\n"
     ]
    }
   ],
   "source": [
    "# Establish variables for statistical analysis\n",
    "all_but_r = train[train.language != 'R'].word_count\n",
    "r = train[train.language == 'R'].word_count\n",
    "\n",
    "print(f'All Except R size: {all_but_r.shape}')\n",
    "print(f'R size: {r.shape}')"
   ]
  },
  {
   "cell_type": "markdown",
   "id": "c7ef6183-c4dc-4e0b-8fb9-7cf1518b00be",
   "metadata": {},
   "source": [
    "The sample sizes are not the same. "
   ]
  },
  {
   "cell_type": "markdown",
   "id": "b251d18d-18f6-4b5c-bff3-5c0480be4a23",
   "metadata": {},
   "source": [
    "---"
   ]
  },
  {
   "cell_type": "markdown",
   "id": "b6023acc-6723-48c4-a74b-035fa5df00c5",
   "metadata": {},
   "source": [
    "##### Observation of Assumptions\n",
    "Both of the variables have significant p-value results from the Shapiro test of normality, which means each variable violates the assumption of normality. Additionally, the visualization presented a bi-modal distribution and the sample sizes are not equal, therefore, the Mann Whitney is the correct hypotheis test to use to determine statistical relevance."
   ]
  },
  {
   "cell_type": "markdown",
   "id": "14eb408f-3681-426f-a71c-38716ec77b61",
   "metadata": {},
   "source": [
    "---"
   ]
  },
  {
   "cell_type": "markdown",
   "id": "9e6e3f75-3797-4be3-b63c-72776341900c",
   "metadata": {},
   "source": [
    "#### Mann Whitney Hypothesis Test"
   ]
  },
  {
   "cell_type": "markdown",
   "id": "bbc6f780-aa75-4bdb-babb-6bf1e861b870",
   "metadata": {
    "tags": []
   },
   "source": [
    "- $H_0$: Mean word count of README documents for R Programming = Mean word count of README documents for all other programming languages.\n",
    "- $H_α$: Mean word count of README documents for R Programming != Mean word count of README documents for all other programming languages."
   ]
  },
  {
   "cell_type": "code",
   "execution_count": 21,
   "id": "082fff0b-9442-4c1b-a9fd-f6771adc605a",
   "metadata": {},
   "outputs": [
    {
     "name": "stdout",
     "output_type": "stream",
     "text": [
      "Mann Whitney Test Statistics: Statistic  236.5, P Value 0.0981113242931169\n",
      "We fail to reject $H_{0}$\n"
     ]
    }
   ],
   "source": [
    "explore.mann_whitney()"
   ]
  },
  {
   "cell_type": "markdown",
   "id": "ecab44c4-d4f7-49da-a3e9-dd8e01192e43",
   "metadata": {},
   "source": [
    "#### Outcome of Hypothesis Testing\n",
    "With our current sample size, we can't conclude that the difference in word count is statistically relevant based upon the results of hypothesis testing. In the future, we could collect more data to increase the sample size to determine more accurate statistical relevance. "
   ]
  },
  {
   "cell_type": "markdown",
   "id": "6cf6e049-f305-4d7f-b113-83de61a312ae",
   "metadata": {},
   "source": [
    "---"
   ]
  },
  {
   "cell_type": "markdown",
   "id": "4df9a1b6-5927-4527-a156-a3ffad4a6736",
   "metadata": {},
   "source": [
    "#### ANSWER 5: Word Counts\n",
    "We can NOT say for sure whether average README word count for R is significantly different from average README word count for all other languages. According to visualizations and summary statistics, R language has a greater average word count. However, statistical testing did not identify a consequential relationship between README word count and programming language."
   ]
  },
  {
   "cell_type": "markdown",
   "id": "d871d6ae-6292-4d53-a1b8-a8c5f9ed7dd3",
   "metadata": {},
   "source": [
    "---"
   ]
  },
  {
   "cell_type": "markdown",
   "id": "d37ffeac-d04c-403a-ba2e-e4fac3aa74e3",
   "metadata": {},
   "source": [
    "### EXPLORATION SUMMARY"
   ]
  },
  {
   "cell_type": "markdown",
   "id": "7b2909f7-a653-473f-8cfa-d11ad05096a7",
   "metadata": {},
   "source": [
    "\n",
    "\n",
    "NEED TO COMPLETE\n",
    "\n",
    "\n",
    "\n",
    "===\n",
    "\n",
    "An Overview of the exploratory questions and answers follows:\n",
    "\n",
    "1. What are the most frequently occuring words?\n",
    "The 5 most frequently occurring words within the train corpus are: year, country, expectancy, life and data. The words with the most frequency listed across all programming languages were code, project, age, file, year, expectancy, life, data, country, and model. The words that were not computer oriented, more focused on life expectancy and represented across the top four languages were age, year, expectancy, life, and country. The computer oriented words represented by the top four languages were code, project, file, data, and model. \n",
    "\n",
    "---\n",
    "2. Do certain coding languages have more unique words?\n",
    "Python has considerably more unique words within the README files in comparison to the other top languages, with over 65, while Other, R, and HTML have fewer than 5.  \n",
    "---\n",
    "3. Do certain coding languages have more unique bigrams?\n",
    "R has considerably more unique bigrams within the README files in comparison to the other top languages, with over 40 pairs, while Python follows with 27, Other with 12, and HTML with 7 unique bigram pairs. \n",
    "\n",
    "---\n",
    "4. Are there any bigrams that uniquely identify one of the coding langauges?\n",
    "\n",
    "---\n",
    "5. Is word count within the README significantly different between the top 4 programming langauges?\n",
    "According to visualizations and summary statistics, R language has a greater average word count at 319 words per README on average, followed by Python at 148 average word count, Other at 131, and HTML at 63. We can NOT say for sure whether average README word count for R is significantly different from average README word count for all other languages because statistical testing did not identify a consequential relationship between README word count and programming language."
   ]
  },
  {
   "cell_type": "markdown",
   "id": "e309d169-45d2-4f40-8ae0-d08d69c693bd",
   "metadata": {},
   "source": [
    "================================================================================================================================================================================================================================="
   ]
  },
  {
   "cell_type": "markdown",
   "id": "68efe8df-7429-49d4-89ee-994d1fc0dee4",
   "metadata": {},
   "source": [
    "## IV. MODEL"
   ]
  },
  {
   "cell_type": "code",
   "execution_count": 22,
   "id": "378bc311-08f9-44e8-aaae-4aa3a5879353",
   "metadata": {},
   "outputs": [],
   "source": [
    "# Import for modeling\n",
    "import model\n",
    "from sklearn.tree import DecisionTreeClassifier, plot_tree\n",
    "from sklearn.metrics import classification_report\n",
    "from sklearn.metrics import confusion_matrix\n",
    "\n",
    "from sklearn.ensemble import RandomForestClassifier\n",
    "from sklearn.linear_model import LogisticRegression\n",
    "from sklearn.feature_extraction.text import TfidfVectorizer"
   ]
  },
  {
   "cell_type": "markdown",
   "id": "b172edda-9782-4b25-bb40-c3b3ec9078f4",
   "metadata": {},
   "source": [
    "### Focus of Model Metrics"
   ]
  },
  {
   "cell_type": "markdown",
   "id": "ff1f99e8-79a4-418e-8c0a-b054fd9ade0e",
   "metadata": {},
   "source": [
    "Because programming language is a yes or no (boolean) value, classification machine learning algorithms were used to fit to the training corpus and the models were evaluated on the validate corpus. The metrics used for model evaluation was accuracy, due to the multi-class classification approach. In other words, the model was optimized for identifying true positives, false positive, true negatives, and false negatives, therefore we focused on creating a model with the highest accuracy score from train to validate. "
   ]
  },
  {
   "cell_type": "markdown",
   "id": "12f5a808-7ccd-4658-a72b-9b741eaf863b",
   "metadata": {},
   "source": [
    "_________________________"
   ]
  },
  {
   "cell_type": "markdown",
   "id": "1ce6c02e-9a2d-48af-b957-c6c00e53708f",
   "metadata": {},
   "source": [
    "### Set X & y"
   ]
  },
  {
   "cell_type": "code",
   "execution_count": 23,
   "id": "415ffe19-810c-45a9-85f3-7258161ce2a4",
   "metadata": {},
   "outputs": [],
   "source": [
    "# X and Y are set in model.py\n",
    "# # make vectorizer\n",
    "# tfidf = TfidfVectorizer()\n",
    "# # fit the vectorizer to the data and make df\n",
    "# X = tfidf.fit_transform(df[\"more_clean\"])\n",
    "# y = df[\"language\"]\n",
    "\n",
    "# split data into train and test\n",
    "#X_train, X_validate, X_test, y_train, y_validate, y_test = prepare.split_data_xy(X, y)\n",
    "\n",
    "# train = pd.DataFrame(dict(actual=y_train))\n",
    "# validate = pd.DataFrame(dict(actual=y_validate))\n",
    "# test = pd.DataFrame(dict(actual=y_test))"
   ]
  },
  {
   "cell_type": "markdown",
   "id": "82e244ea-52f1-49cc-902a-06e6a02a993e",
   "metadata": {},
   "source": [
    "### Set Baseline"
   ]
  },
  {
   "cell_type": "markdown",
   "id": "631dadaf-8a44-4a49-9a46-6063144cf775",
   "metadata": {},
   "source": [
    "A baseline prediction was set by predicting all repositories will have 'Python' as the programming language. We will evaluate the accuracy of our models in comparrison to that baseline."
   ]
  },
  {
   "cell_type": "code",
   "execution_count": 24,
   "id": "a5732b11",
   "metadata": {},
   "outputs": [
    {
     "data": {
      "text/html": [
       "<div>\n",
       "<style scoped>\n",
       "    .dataframe tbody tr th:only-of-type {\n",
       "        vertical-align: middle;\n",
       "    }\n",
       "\n",
       "    .dataframe tbody tr th {\n",
       "        vertical-align: top;\n",
       "    }\n",
       "\n",
       "    .dataframe thead th {\n",
       "        text-align: right;\n",
       "    }\n",
       "</style>\n",
       "<table border=\"1\" class=\"dataframe\">\n",
       "  <thead>\n",
       "    <tr style=\"text-align: right;\">\n",
       "      <th></th>\n",
       "      <th>model_number</th>\n",
       "      <th>model_type</th>\n",
       "      <th>train_accuracy</th>\n",
       "      <th>validate_accuracy</th>\n",
       "      <th>test_accuracy</th>\n",
       "      <th>better_than_baseline</th>\n",
       "      <th>baseline_accuracy</th>\n",
       "      <th>solver</th>\n",
       "      <th>C</th>\n",
       "    </tr>\n",
       "  </thead>\n",
       "  <tbody>\n",
       "    <tr>\n",
       "      <th>0</th>\n",
       "      <td>baseline</td>\n",
       "      <td>baseline</td>\n",
       "      <td>0.418919</td>\n",
       "      <td>0.424242</td>\n",
       "      <td>0.407407</td>\n",
       "      <td>False</td>\n",
       "      <td>0.424242</td>\n",
       "      <td>NaN</td>\n",
       "      <td>NaN</td>\n",
       "    </tr>\n",
       "  </tbody>\n",
       "</table>\n",
       "</div>"
      ],
      "text/plain": [
       "  model_number model_type train_accuracy validate_accuracy test_accuracy  \\\n",
       "0     baseline   baseline       0.418919          0.424242      0.407407   \n",
       "\n",
       "  better_than_baseline baseline_accuracy solver    C  \n",
       "0                False          0.424242    NaN  NaN  "
      ]
     },
     "execution_count": 24,
     "metadata": {},
     "output_type": "execute_result"
    }
   ],
   "source": [
    "model.run_logistic_reg_models().head(1)"
   ]
  },
  {
   "cell_type": "markdown",
   "id": "bd542af0-8265-40c2-ad60-cfb607e43d85",
   "metadata": {},
   "source": [
    "#### The Type of Classification models built were \n",
    "- Decision Tree\n",
    "- Random Forest\n",
    "- Logistic Regression\n",
    "\n",
    "The models were run with many trials, adjusting parameters and algorithms to find the best performing model.  \n",
    "\n",
    "- All Logistic Regression models appeared to be overfit based upon their high performance on train accuracy compared to the significant drop off on validate accuracy.\n",
    "    - This is in part due to the use of TF-IDF which analyzes each word in the train corpus and does not remove attributes.\n",
    "- In general all models outperformed baseline, which had 42% accuracy on train and 41% accuracy on validate.\n",
    "- The Logistic Regression Model that performed best had a c of 1000 and solver of 'lbfgs', with train accuracy of 98% and validate accuracy of 61% performing 19% better than baseline with validate. It was then applied to the un-seen test data with an accuracy of 56%."
   ]
  },
  {
   "cell_type": "markdown",
   "id": "bc51ceea-5d8d-4f0b-9762-c4faa8bb59b0",
   "metadata": {},
   "source": [
    "### MODEL - DECISION TREE"
   ]
  },
  {
   "cell_type": "code",
   "execution_count": 25,
   "id": "bb265bce",
   "metadata": {},
   "outputs": [
    {
     "data": {
      "text/html": [
       "<div>\n",
       "<style scoped>\n",
       "    .dataframe tbody tr th:only-of-type {\n",
       "        vertical-align: middle;\n",
       "    }\n",
       "\n",
       "    .dataframe tbody tr th {\n",
       "        vertical-align: top;\n",
       "    }\n",
       "\n",
       "    .dataframe thead th {\n",
       "        text-align: right;\n",
       "    }\n",
       "</style>\n",
       "<table border=\"1\" class=\"dataframe\">\n",
       "  <thead>\n",
       "    <tr style=\"text-align: right;\">\n",
       "      <th></th>\n",
       "      <th>model_number</th>\n",
       "      <th>model_type</th>\n",
       "      <th>train_accuracy</th>\n",
       "      <th>validate_accuracy</th>\n",
       "      <th>better_than_baseline</th>\n",
       "      <th>max_depth</th>\n",
       "      <th>baseline_accuracy</th>\n",
       "    </tr>\n",
       "  </thead>\n",
       "  <tbody>\n",
       "    <tr>\n",
       "      <th>2</th>\n",
       "      <td>2</td>\n",
       "      <td>DecisionTreeClassifier</td>\n",
       "      <td>0.513514</td>\n",
       "      <td>0.454545</td>\n",
       "      <td>True</td>\n",
       "      <td>2</td>\n",
       "      <td>0.424242</td>\n",
       "    </tr>\n",
       "    <tr>\n",
       "      <th>5</th>\n",
       "      <td>5</td>\n",
       "      <td>DecisionTreeClassifier</td>\n",
       "      <td>0.72973</td>\n",
       "      <td>0.454545</td>\n",
       "      <td>True</td>\n",
       "      <td>5</td>\n",
       "      <td>0.424242</td>\n",
       "    </tr>\n",
       "    <tr>\n",
       "      <th>0</th>\n",
       "      <td>baseline</td>\n",
       "      <td>baseline</td>\n",
       "      <td>0.418919</td>\n",
       "      <td>0.424242</td>\n",
       "      <td>False</td>\n",
       "      <td>NaN</td>\n",
       "      <td>NaN</td>\n",
       "    </tr>\n",
       "    <tr>\n",
       "      <th>1</th>\n",
       "      <td>1</td>\n",
       "      <td>DecisionTreeClassifier</td>\n",
       "      <td>0.418919</td>\n",
       "      <td>0.424242</td>\n",
       "      <td>False</td>\n",
       "      <td>1</td>\n",
       "      <td>0.424242</td>\n",
       "    </tr>\n",
       "    <tr>\n",
       "      <th>4</th>\n",
       "      <td>4</td>\n",
       "      <td>DecisionTreeClassifier</td>\n",
       "      <td>0.662162</td>\n",
       "      <td>0.424242</td>\n",
       "      <td>False</td>\n",
       "      <td>4</td>\n",
       "      <td>0.424242</td>\n",
       "    </tr>\n",
       "  </tbody>\n",
       "</table>\n",
       "</div>"
      ],
      "text/plain": [
       "  model_number              model_type train_accuracy validate_accuracy  \\\n",
       "2            2  DecisionTreeClassifier       0.513514          0.454545   \n",
       "5            5  DecisionTreeClassifier        0.72973          0.454545   \n",
       "0     baseline                baseline       0.418919          0.424242   \n",
       "1            1  DecisionTreeClassifier       0.418919          0.424242   \n",
       "4            4  DecisionTreeClassifier       0.662162          0.424242   \n",
       "\n",
       "  better_than_baseline max_depth baseline_accuracy  \n",
       "2                 True         2          0.424242  \n",
       "5                 True         5          0.424242  \n",
       "0                False       NaN               NaN  \n",
       "1                False         1          0.424242  \n",
       "4                False         4          0.424242  "
      ]
     },
     "execution_count": 25,
     "metadata": {},
     "output_type": "execute_result"
    }
   ],
   "source": [
    "decision_tree_models = model.run_decision_tree_models()\n",
    "decision_tree_models.sort_values('validate_accuracy', ascending=False).drop(columns='test_accuracy').head(5)"
   ]
  },
  {
   "cell_type": "markdown",
   "id": "bcafdfa4",
   "metadata": {},
   "source": [
    "The Decision Tree model that performed the best on train & validate set had max_depth of 2, with 51% accuracy on train, and 45% accuracy on validate, so that model will be isolated below in the event it is the best performing model to be applied to the test (unseen) dataset. "
   ]
  },
  {
   "cell_type": "markdown",
   "id": "bbd8f647-939d-41d3-b239-d14a6993a416",
   "metadata": {},
   "source": [
    "### Model - RANDOM FOREST"
   ]
  },
  {
   "cell_type": "code",
   "execution_count": 26,
   "id": "818809e7",
   "metadata": {},
   "outputs": [
    {
     "data": {
      "text/html": [
       "<div>\n",
       "<style scoped>\n",
       "    .dataframe tbody tr th:only-of-type {\n",
       "        vertical-align: middle;\n",
       "    }\n",
       "\n",
       "    .dataframe tbody tr th {\n",
       "        vertical-align: top;\n",
       "    }\n",
       "\n",
       "    .dataframe thead th {\n",
       "        text-align: right;\n",
       "    }\n",
       "</style>\n",
       "<table border=\"1\" class=\"dataframe\">\n",
       "  <thead>\n",
       "    <tr style=\"text-align: right;\">\n",
       "      <th></th>\n",
       "      <th>model_number</th>\n",
       "      <th>model_type</th>\n",
       "      <th>train_accuracy</th>\n",
       "      <th>validate_accuracy</th>\n",
       "      <th>better_than_baseline</th>\n",
       "      <th>max_depth</th>\n",
       "      <th>min_samples_leaf</th>\n",
       "      <th>criterion</th>\n",
       "      <th>baseline_accuracy</th>\n",
       "    </tr>\n",
       "  </thead>\n",
       "  <tbody>\n",
       "    <tr>\n",
       "      <th>85</th>\n",
       "      <td>92</td>\n",
       "      <td>RandomForest</td>\n",
       "      <td>0.986486</td>\n",
       "      <td>0.484848</td>\n",
       "      <td>True</td>\n",
       "      <td>100</td>\n",
       "      <td>1</td>\n",
       "      <td>gini</td>\n",
       "      <td>0.424242</td>\n",
       "    </tr>\n",
       "    <tr>\n",
       "      <th>73</th>\n",
       "      <td>80</td>\n",
       "      <td>RandomForest</td>\n",
       "      <td>0.810811</td>\n",
       "      <td>0.484848</td>\n",
       "      <td>True</td>\n",
       "      <td>10</td>\n",
       "      <td>2</td>\n",
       "      <td>gini</td>\n",
       "      <td>0.424242</td>\n",
       "    </tr>\n",
       "    <tr>\n",
       "      <th>74</th>\n",
       "      <td>81</td>\n",
       "      <td>RandomForest</td>\n",
       "      <td>0.783784</td>\n",
       "      <td>0.484848</td>\n",
       "      <td>True</td>\n",
       "      <td>10</td>\n",
       "      <td>2</td>\n",
       "      <td>entropy</td>\n",
       "      <td>0.424242</td>\n",
       "    </tr>\n",
       "  </tbody>\n",
       "</table>\n",
       "</div>"
      ],
      "text/plain": [
       "   model_number    model_type train_accuracy validate_accuracy  \\\n",
       "85           92  RandomForest       0.986486          0.484848   \n",
       "73           80  RandomForest       0.810811          0.484848   \n",
       "74           81  RandomForest       0.783784          0.484848   \n",
       "\n",
       "   better_than_baseline max_depth min_samples_leaf criterion baseline_accuracy  \n",
       "85                 True       100                1      gini          0.424242  \n",
       "73                 True        10                2      gini          0.424242  \n",
       "74                 True        10                2   entropy          0.424242  "
      ]
     },
     "execution_count": 26,
     "metadata": {},
     "output_type": "execute_result"
    }
   ],
   "source": [
    "rand_forest_models = model.run_random_forest_models()\n",
    "rand_forest_models.sort_values('validate_accuracy', ascending=False).drop(columns='test_accuracy').head(3)"
   ]
  },
  {
   "cell_type": "markdown",
   "id": "e0c0e11d-4214-4823-be77-e7323a0a8621",
   "metadata": {},
   "source": [
    "The Random Forest model that performed the best on train & validate set had max_depth of 100 and min_sample_leaf of 1, with 99%  accuracy on train, and 48% accuracy on validate, so that model will be isolated below in the event it is the best performing model to be applied to the test (unseen) dataset. "
   ]
  },
  {
   "cell_type": "markdown",
   "id": "8afa341b-2ac7-4a06-a034-e831e1719b27",
   "metadata": {},
   "source": [
    "---"
   ]
  },
  {
   "cell_type": "markdown",
   "id": "35ad1db2-0bb9-45b3-996e-08630a2304e6",
   "metadata": {},
   "source": [
    "### Model - LOGISTIC REGRESSION"
   ]
  },
  {
   "cell_type": "code",
   "execution_count": 27,
   "id": "0516b6b6",
   "metadata": {},
   "outputs": [
    {
     "data": {
      "text/html": [
       "<div>\n",
       "<style scoped>\n",
       "    .dataframe tbody tr th:only-of-type {\n",
       "        vertical-align: middle;\n",
       "    }\n",
       "\n",
       "    .dataframe tbody tr th {\n",
       "        vertical-align: top;\n",
       "    }\n",
       "\n",
       "    .dataframe thead th {\n",
       "        text-align: right;\n",
       "    }\n",
       "</style>\n",
       "<table border=\"1\" class=\"dataframe\">\n",
       "  <thead>\n",
       "    <tr style=\"text-align: right;\">\n",
       "      <th></th>\n",
       "      <th>model_number</th>\n",
       "      <th>model_type</th>\n",
       "      <th>train_accuracy</th>\n",
       "      <th>validate_accuracy</th>\n",
       "      <th>better_than_baseline</th>\n",
       "      <th>baseline_accuracy</th>\n",
       "      <th>solver</th>\n",
       "      <th>C</th>\n",
       "    </tr>\n",
       "  </thead>\n",
       "  <tbody>\n",
       "    <tr>\n",
       "      <th>21</th>\n",
       "      <td>126</td>\n",
       "      <td>LogisticRegression</td>\n",
       "      <td>0.986486</td>\n",
       "      <td>0.606061</td>\n",
       "      <td>True</td>\n",
       "      <td>0.424242</td>\n",
       "      <td>newton-cg</td>\n",
       "      <td>1000</td>\n",
       "    </tr>\n",
       "    <tr>\n",
       "      <th>6</th>\n",
       "      <td>111</td>\n",
       "      <td>LogisticRegression</td>\n",
       "      <td>0.986486</td>\n",
       "      <td>0.606061</td>\n",
       "      <td>True</td>\n",
       "      <td>0.424242</td>\n",
       "      <td>liblinear</td>\n",
       "      <td>100</td>\n",
       "    </tr>\n",
       "    <tr>\n",
       "      <th>14</th>\n",
       "      <td>119</td>\n",
       "      <td>LogisticRegression</td>\n",
       "      <td>0.986486</td>\n",
       "      <td>0.606061</td>\n",
       "      <td>True</td>\n",
       "      <td>0.424242</td>\n",
       "      <td>lbfgs</td>\n",
       "      <td>1000</td>\n",
       "    </tr>\n",
       "  </tbody>\n",
       "</table>\n",
       "</div>"
      ],
      "text/plain": [
       "   model_number          model_type train_accuracy validate_accuracy  \\\n",
       "21          126  LogisticRegression       0.986486          0.606061   \n",
       "6           111  LogisticRegression       0.986486          0.606061   \n",
       "14          119  LogisticRegression       0.986486          0.606061   \n",
       "\n",
       "   better_than_baseline baseline_accuracy     solver     C  \n",
       "21                 True          0.424242  newton-cg  1000  \n",
       "6                  True          0.424242  liblinear   100  \n",
       "14                 True          0.424242      lbfgs  1000  "
      ]
     },
     "execution_count": 27,
     "metadata": {},
     "output_type": "execute_result"
    }
   ],
   "source": [
    "log_models= model.run_logistic_reg_models()\n",
    "log_models.sort_values('validate_accuracy', ascending=False).drop(columns='test_accuracy').head(3)"
   ]
  },
  {
   "cell_type": "markdown",
   "id": "fe947326-6d0f-4fb0-a484-0e2e2f689578",
   "metadata": {},
   "source": [
    "Evaluating the model with the validate data set was done in the function above for comparrison. The Logistic Regression Model that performed best had a c-statistic of 1000 with a train accuracy of 99% and validate accuracy of 61% performing 19% better than baseline on unseen (validate) data."
   ]
  },
  {
   "cell_type": "markdown",
   "id": "a45371d4-1344-441c-8eac-787b0a4dcc9e",
   "metadata": {},
   "source": [
    "### Best Performing Model Applied to Test Data (Unseen Data)"
   ]
  },
  {
   "cell_type": "code",
   "execution_count": 28,
   "id": "ac879dab",
   "metadata": {},
   "outputs": [
    {
     "data": {
      "text/html": [
       "<div>\n",
       "<style scoped>\n",
       "    .dataframe tbody tr th:only-of-type {\n",
       "        vertical-align: middle;\n",
       "    }\n",
       "\n",
       "    .dataframe tbody tr th {\n",
       "        vertical-align: top;\n",
       "    }\n",
       "\n",
       "    .dataframe thead th {\n",
       "        text-align: right;\n",
       "    }\n",
       "</style>\n",
       "<table border=\"1\" class=\"dataframe\">\n",
       "  <thead>\n",
       "    <tr style=\"text-align: right;\">\n",
       "      <th></th>\n",
       "      <th>model_number</th>\n",
       "      <th>model_type</th>\n",
       "      <th>train_accuracy</th>\n",
       "      <th>validate_accuracy</th>\n",
       "      <th>test_accuracy</th>\n",
       "      <th>better_than_baseline</th>\n",
       "      <th>baseline_accuracy</th>\n",
       "      <th>solver</th>\n",
       "      <th>C</th>\n",
       "      <th>max_depth</th>\n",
       "      <th>min_samples_leaf</th>\n",
       "      <th>criterion</th>\n",
       "    </tr>\n",
       "  </thead>\n",
       "  <tbody>\n",
       "    <tr>\n",
       "      <th>14</th>\n",
       "      <td>119</td>\n",
       "      <td>LogisticRegression</td>\n",
       "      <td>0.986486</td>\n",
       "      <td>0.606061</td>\n",
       "      <td>0.555556</td>\n",
       "      <td>True</td>\n",
       "      <td>0.424242</td>\n",
       "      <td>lbfgs</td>\n",
       "      <td>1000</td>\n",
       "      <td>NaN</td>\n",
       "      <td>NaN</td>\n",
       "      <td>NaN</td>\n",
       "    </tr>\n",
       "  </tbody>\n",
       "</table>\n",
       "</div>"
      ],
      "text/plain": [
       "   model_number          model_type train_accuracy validate_accuracy  \\\n",
       "14          119  LogisticRegression       0.986486          0.606061   \n",
       "\n",
       "   test_accuracy better_than_baseline baseline_accuracy solver     C  \\\n",
       "14      0.555556                 True          0.424242  lbfgs  1000   \n",
       "\n",
       "   max_depth min_samples_leaf criterion  \n",
       "14       NaN              NaN       NaN  "
      ]
     },
     "execution_count": 28,
     "metadata": {},
     "output_type": "execute_result"
    }
   ],
   "source": [
    "all_models = pd.concat([log_models, decision_tree_models, rand_forest_models])\n",
    "all_models.sort_values(['validate_accuracy','test_accuracy'], ascending=False).head(1)"
   ]
  },
  {
   "cell_type": "markdown",
   "id": "c2af2bb3-d3f9-4f58-a98e-17a6c6043f99",
   "metadata": {},
   "source": [
    "This model is expected to perform around 56-60% accuracy in the future on data it has not seen, given no major changes in the data source, which is equivalent to baseline prediction."
   ]
  },
  {
   "cell_type": "markdown",
   "id": "29ed8d8c-c125-4ab5-87ba-bd0378b302bf",
   "metadata": {},
   "source": [
    "========================================================================================================================================================================================="
   ]
  },
  {
   "cell_type": "markdown",
   "id": "14cde032-a73c-4a71-b727-1b65c8fc3d5c",
   "metadata": {},
   "source": [
    "## V. CONCLUSION"
   ]
  },
  {
   "cell_type": "markdown",
   "id": "f7303ada-42cd-4103-9abf-22ce64cdb704",
   "metadata": {},
   "source": [
    "The goal of this report was to build a Natural Language Processing (NLP) model that could predict the programming language of projects within specified GitHub repositories, given the text of a README.md file.  \n",
    "\n",
    "Through the process of data acquisition, preparation, exploration, and statistical testing, it was determined programming language could be best predicted using: TF-IDF, Logistic Regression.\n",
    "\n",
    "By using machine learning modeling, predictions to identify programming language were made with 56% accuracy using the best performing model. The Logistic Regression Model that performed best had a c-statistic of 1000 with a train accuracy of 99% and validate accuracy of 61% performing 19% better than baseline on unseen (validate) data."
   ]
  },
  {
   "cell_type": "markdown",
   "id": "388fc585-d437-4c9a-885a-0af735955c13",
   "metadata": {},
   "source": [
    "### RECOMMENDATIONS"
   ]
  },
  {
   "cell_type": "markdown",
   "id": "7ed4c3fc-eec8-40c8-aa81-5f5d39a6b6b8",
   "metadata": {},
   "source": [
    "- USE THE IDENTIFIED DRIVERS of programming language: The data shows ________ have the largest impact on programming language. These features should be used going forward to predict programming language, as well as a starting point for conducting further analysis.  \n",
    "\n",
    "- BUILD UPON MODEL PERFORMANCE: Although the ________ Model, with max depth and minimum leaf sample of 12 does predict programming language with ______\\% accuracy on unseen data, the model ________ perform better than baseline and it could continue to be improved upon through deeper analysis of features and their impact on programming language. See next steps. \n",
    "\n",
    "- CONTINUE to PINPOINT FEATURES DRIVING programming language: This report focused on _____, _______, _______, and ___________ as initial contributors to programming language. It is recommended further analysis and modeling be done with additional features in order to create models with improved performance. "
   ]
  },
  {
   "cell_type": "code",
   "execution_count": null,
   "id": "5020f017-8f18-425d-ae6c-0ff5c6efcd57",
   "metadata": {},
   "outputs": [],
   "source": [
    "### NEXT STEPS"
   ]
  },
  {
   "cell_type": "markdown",
   "id": "fd529a37-1d50-43a0-b491-471af4c698bc",
   "metadata": {},
   "source": [
    "If given more time, we would like to:\n",
    "\n",
    "- Eliminate more outliers to produce more accurate modeling/predictions.\n",
    "- Explore the breakdown of 'Other\" programming langauge to break apart and identify text which could predict more specified 'Other' languages.\n",
    "\n",
    "- Downsample to decrease the quantity of the majority class (no programming language, Jupyter Notebook, or other) in order to better see the impact of features on the target.\n",
    "\n",
    "- Increase number of repos to be analyzed to improve accuracy.\n",
    "\n",
    "- Identify more precise populations within the data that have programming language. For instance, we would like to investigate:\n",
    "    - Average word length within the README.md files (Since R is used often in academia, do they use bigger words?)\n",
    "    - How often do unique to language words or bigrams appear in each README.md file and is this a good indicator of programming language?"
   ]
  },
  {
   "cell_type": "markdown",
   "id": "c9733345-fbfa-4390-bd70-5e988b9d9d4f",
   "metadata": {},
   "source": [
    "==================================================================================================================================="
   ]
  }
 ],
 "metadata": {
  "kernelspec": {
   "display_name": "Python 3 (ipykernel)",
   "language": "python",
   "name": "python3"
  },
  "language_info": {
   "codemirror_mode": {
    "name": "ipython",
    "version": 3
   },
   "file_extension": ".py",
   "mimetype": "text/x-python",
   "name": "python",
   "nbconvert_exporter": "python",
   "pygments_lexer": "ipython3",
   "version": "3.9.7"
  }
 },
 "nbformat": 4,
 "nbformat_minor": 5
}
