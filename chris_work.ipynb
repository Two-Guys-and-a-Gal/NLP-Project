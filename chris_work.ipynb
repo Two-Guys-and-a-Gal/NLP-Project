{
 "cells": [
  {
   "cell_type": "code",
   "execution_count": 15,
   "metadata": {},
   "outputs": [],
   "source": [
    "import matplotlib.pyplot as plt\n",
    "import seaborn as sns\n",
    "import pandas as pd\n",
    "import nltk\n",
    "import unicodedata\n",
    "import re\n",
    "import env\n",
    "import prepare\n",
    "from matplotlib import style\n",
    "style.use(\"ggplot\")\n",
    "from wordcloud import WordCloud\n",
    "from sklearn.model_selection import train_test_split\n",
    "from sklearn.linear_model import LogisticRegression\n",
    "from sklearn.metrics import classification_report, accuracy_score\n",
    "from sklearn.feature_extraction.text import TfidfVectorizer\n",
    "import warnings\n",
    "warnings.filterwarnings(\"ignore\")"
   ]
  },
  {
   "cell_type": "code",
   "execution_count": 16,
   "metadata": {},
   "outputs": [
    {
     "data": {
      "text/html": [
       "<div>\n",
       "<style scoped>\n",
       "    .dataframe tbody tr th:only-of-type {\n",
       "        vertical-align: middle;\n",
       "    }\n",
       "\n",
       "    .dataframe tbody tr th {\n",
       "        vertical-align: top;\n",
       "    }\n",
       "\n",
       "    .dataframe thead th {\n",
       "        text-align: right;\n",
       "    }\n",
       "</style>\n",
       "<table border=\"1\" class=\"dataframe\">\n",
       "  <thead>\n",
       "    <tr style=\"text-align: right;\">\n",
       "      <th></th>\n",
       "      <th>repo</th>\n",
       "      <th>language</th>\n",
       "      <th>readme_contents</th>\n",
       "    </tr>\n",
       "  </thead>\n",
       "  <tbody>\n",
       "    <tr>\n",
       "      <th>0</th>\n",
       "      <td>mcastrolab/Brazil-Covid19-e0-change</td>\n",
       "      <td>R</td>\n",
       "      <td># Reduction in life expectancy in Brazil after...</td>\n",
       "    </tr>\n",
       "    <tr>\n",
       "      <th>1</th>\n",
       "      <td>jschoeley/de0anim</td>\n",
       "      <td>R</td>\n",
       "      <td># Animated annual changes in life-expectancy\\n...</td>\n",
       "    </tr>\n",
       "    <tr>\n",
       "      <th>2</th>\n",
       "      <td>sychi77/Thoracic_Surgery_Patient_Survival</td>\n",
       "      <td>Jupyter Notebook</td>\n",
       "      <td># Thoracic Surgery for Lung Cancer Data Set\\n ...</td>\n",
       "    </tr>\n",
       "    <tr>\n",
       "      <th>3</th>\n",
       "      <td>ashtad63/HackerRank-Data-Scientist-Hiring-Test</td>\n",
       "      <td>Jupyter Notebook</td>\n",
       "      <td># HackerRank Data Scientist Hiring Test: Predi...</td>\n",
       "    </tr>\n",
       "    <tr>\n",
       "      <th>4</th>\n",
       "      <td>OxfordDemSci/ex2020</td>\n",
       "      <td>R</td>\n",
       "      <td>&lt;p align=\"center\"&gt;\\n  &lt;img src=\"https://github...</td>\n",
       "    </tr>\n",
       "  </tbody>\n",
       "</table>\n",
       "</div>"
      ],
      "text/plain": [
       "                                             repo          language  \\\n",
       "0             mcastrolab/Brazil-Covid19-e0-change                 R   \n",
       "1                               jschoeley/de0anim                 R   \n",
       "2       sychi77/Thoracic_Surgery_Patient_Survival  Jupyter Notebook   \n",
       "3  ashtad63/HackerRank-Data-Scientist-Hiring-Test  Jupyter Notebook   \n",
       "4                             OxfordDemSci/ex2020                 R   \n",
       "\n",
       "                                     readme_contents  \n",
       "0  # Reduction in life expectancy in Brazil after...  \n",
       "1  # Animated annual changes in life-expectancy\\n...  \n",
       "2  # Thoracic Surgery for Lung Cancer Data Set\\n ...  \n",
       "3  # HackerRank Data Scientist Hiring Test: Predi...  \n",
       "4  <p align=\"center\">\\n  <img src=\"https://github...  "
      ]
     },
     "execution_count": 16,
     "metadata": {},
     "output_type": "execute_result"
    }
   ],
   "source": [
    "#make df from data.json\n",
    "df = pd.read_json('data.json')\n",
    "df.head()"
   ]
  },
  {
   "cell_type": "code",
   "execution_count": 17,
   "metadata": {},
   "outputs": [
    {
     "data": {
      "text/html": [
       "<div>\n",
       "<style scoped>\n",
       "    .dataframe tbody tr th:only-of-type {\n",
       "        vertical-align: middle;\n",
       "    }\n",
       "\n",
       "    .dataframe tbody tr th {\n",
       "        vertical-align: top;\n",
       "    }\n",
       "\n",
       "    .dataframe thead th {\n",
       "        text-align: right;\n",
       "    }\n",
       "</style>\n",
       "<table border=\"1\" class=\"dataframe\">\n",
       "  <thead>\n",
       "    <tr style=\"text-align: right;\">\n",
       "      <th></th>\n",
       "      <th>repo</th>\n",
       "      <th>language</th>\n",
       "      <th>original</th>\n",
       "    </tr>\n",
       "  </thead>\n",
       "  <tbody>\n",
       "    <tr>\n",
       "      <th>0</th>\n",
       "      <td>mcastrolab/Brazil-Covid19-e0-change</td>\n",
       "      <td>R</td>\n",
       "      <td># Reduction in life expectancy in Brazil after...</td>\n",
       "    </tr>\n",
       "    <tr>\n",
       "      <th>1</th>\n",
       "      <td>jschoeley/de0anim</td>\n",
       "      <td>R</td>\n",
       "      <td># Animated annual changes in life-expectancy\\n...</td>\n",
       "    </tr>\n",
       "    <tr>\n",
       "      <th>2</th>\n",
       "      <td>sychi77/Thoracic_Surgery_Patient_Survival</td>\n",
       "      <td>Jupyter Notebook</td>\n",
       "      <td># Thoracic Surgery for Lung Cancer Data Set\\n ...</td>\n",
       "    </tr>\n",
       "    <tr>\n",
       "      <th>3</th>\n",
       "      <td>ashtad63/HackerRank-Data-Scientist-Hiring-Test</td>\n",
       "      <td>Jupyter Notebook</td>\n",
       "      <td># HackerRank Data Scientist Hiring Test: Predi...</td>\n",
       "    </tr>\n",
       "    <tr>\n",
       "      <th>4</th>\n",
       "      <td>OxfordDemSci/ex2020</td>\n",
       "      <td>R</td>\n",
       "      <td>&lt;p align=\"center\"&gt;\\n  &lt;img src=\"https://github...</td>\n",
       "    </tr>\n",
       "  </tbody>\n",
       "</table>\n",
       "</div>"
      ],
      "text/plain": [
       "                                             repo          language  \\\n",
       "0             mcastrolab/Brazil-Covid19-e0-change                 R   \n",
       "1                               jschoeley/de0anim                 R   \n",
       "2       sychi77/Thoracic_Surgery_Patient_Survival  Jupyter Notebook   \n",
       "3  ashtad63/HackerRank-Data-Scientist-Hiring-Test  Jupyter Notebook   \n",
       "4                             OxfordDemSci/ex2020                 R   \n",
       "\n",
       "                                            original  \n",
       "0  # Reduction in life expectancy in Brazil after...  \n",
       "1  # Animated annual changes in life-expectancy\\n...  \n",
       "2  # Thoracic Surgery for Lung Cancer Data Set\\n ...  \n",
       "3  # HackerRank Data Scientist Hiring Test: Predi...  \n",
       "4  <p align=\"center\">\\n  <img src=\"https://github...  "
      ]
     },
     "execution_count": 17,
     "metadata": {},
     "output_type": "execute_result"
    }
   ],
   "source": [
    "# change readme_contents to original\n",
    "df.rename(columns={'readme_contents':'original'}, inplace=True)\n",
    "df.head()"
   ]
  },
  {
   "cell_type": "code",
   "execution_count": 18,
   "metadata": {},
   "outputs": [],
   "source": [
    "df['clean'] = df['original'].apply(prepare.basic_clean)\n",
    "df['lemmas'] = df['clean'].apply(prepare.lemmatize)\n",
    "df['stemmed'] = df['clean'].apply(prepare.stem)\n",
    "df['more_clean'] = df['lemmas'].apply(prepare.remove_stopwords) #lemmas with stop words removed"
   ]
  },
  {
   "cell_type": "code",
   "execution_count": 19,
   "metadata": {},
   "outputs": [
    {
     "data": {
      "text/html": [
       "<div>\n",
       "<style scoped>\n",
       "    .dataframe tbody tr th:only-of-type {\n",
       "        vertical-align: middle;\n",
       "    }\n",
       "\n",
       "    .dataframe tbody tr th {\n",
       "        vertical-align: top;\n",
       "    }\n",
       "\n",
       "    .dataframe thead th {\n",
       "        text-align: right;\n",
       "    }\n",
       "</style>\n",
       "<table border=\"1\" class=\"dataframe\">\n",
       "  <thead>\n",
       "    <tr style=\"text-align: right;\">\n",
       "      <th></th>\n",
       "      <th>repo</th>\n",
       "      <th>language</th>\n",
       "      <th>original</th>\n",
       "      <th>clean</th>\n",
       "      <th>lemmas</th>\n",
       "      <th>stemmed</th>\n",
       "      <th>more_clean</th>\n",
       "    </tr>\n",
       "  </thead>\n",
       "  <tbody>\n",
       "    <tr>\n",
       "      <th>0</th>\n",
       "      <td>mcastrolab/Brazil-Covid19-e0-change</td>\n",
       "      <td>R</td>\n",
       "      <td># Reduction in life expectancy in Brazil after...</td>\n",
       "      <td>reduction in life expectancy in brazil after...</td>\n",
       "      <td>reduction in life expectancy in brazil after c...</td>\n",
       "      <td>reduct in life expect in brazil after covid 19...</td>\n",
       "      <td>reduction life expectancy brazil covid 19 prov...</td>\n",
       "    </tr>\n",
       "    <tr>\n",
       "      <th>1</th>\n",
       "      <td>jschoeley/de0anim</td>\n",
       "      <td>R</td>\n",
       "      <td># Animated annual changes in life-expectancy\\n...</td>\n",
       "      <td>animated annual changes in life expectancy\\n...</td>\n",
       "      <td>animated annual change in life expectancy illu...</td>\n",
       "      <td>anim annual chang in life expect illustr of re...</td>\n",
       "      <td>animated annual change life expectancy illustr...</td>\n",
       "    </tr>\n",
       "    <tr>\n",
       "      <th>2</th>\n",
       "      <td>sychi77/Thoracic_Surgery_Patient_Survival</td>\n",
       "      <td>Jupyter Notebook</td>\n",
       "      <td># Thoracic Surgery for Lung Cancer Data Set\\n ...</td>\n",
       "      <td>thoracic surgery for lung cancer data set\\n ...</td>\n",
       "      <td>thoracic surgery for lung cancer data set from...</td>\n",
       "      <td>thorac surgeri for lung cancer data set from u...</td>\n",
       "      <td>thoracic surgery lung cancer data set uci mach...</td>\n",
       "    </tr>\n",
       "    <tr>\n",
       "      <th>3</th>\n",
       "      <td>ashtad63/HackerRank-Data-Scientist-Hiring-Test</td>\n",
       "      <td>Jupyter Notebook</td>\n",
       "      <td># HackerRank Data Scientist Hiring Test: Predi...</td>\n",
       "      <td>hackerrank data scientist hiring test  predi...</td>\n",
       "      <td>hackerrank data scientist hiring test predict ...</td>\n",
       "      <td>hackerrank data scientist hire test predict li...</td>\n",
       "      <td>hackerrank data scientist hiring test predict ...</td>\n",
       "    </tr>\n",
       "    <tr>\n",
       "      <th>4</th>\n",
       "      <td>OxfordDemSci/ex2020</td>\n",
       "      <td>R</td>\n",
       "      <td>&lt;p align=\"center\"&gt;\\n  &lt;img src=\"https://github...</td>\n",
       "      <td>p align  center  \\n   img src  https   github...</td>\n",
       "      <td>p align center img src http github com oxfordd...</td>\n",
       "      <td>p align center img src http github com oxfordd...</td>\n",
       "      <td>p align center img src http github com oxfordd...</td>\n",
       "    </tr>\n",
       "  </tbody>\n",
       "</table>\n",
       "</div>"
      ],
      "text/plain": [
       "                                             repo          language  \\\n",
       "0             mcastrolab/Brazil-Covid19-e0-change                 R   \n",
       "1                               jschoeley/de0anim                 R   \n",
       "2       sychi77/Thoracic_Surgery_Patient_Survival  Jupyter Notebook   \n",
       "3  ashtad63/HackerRank-Data-Scientist-Hiring-Test  Jupyter Notebook   \n",
       "4                             OxfordDemSci/ex2020                 R   \n",
       "\n",
       "                                            original  \\\n",
       "0  # Reduction in life expectancy in Brazil after...   \n",
       "1  # Animated annual changes in life-expectancy\\n...   \n",
       "2  # Thoracic Surgery for Lung Cancer Data Set\\n ...   \n",
       "3  # HackerRank Data Scientist Hiring Test: Predi...   \n",
       "4  <p align=\"center\">\\n  <img src=\"https://github...   \n",
       "\n",
       "                                               clean  \\\n",
       "0    reduction in life expectancy in brazil after...   \n",
       "1    animated annual changes in life expectancy\\n...   \n",
       "2    thoracic surgery for lung cancer data set\\n ...   \n",
       "3    hackerrank data scientist hiring test  predi...   \n",
       "4   p align  center  \\n   img src  https   github...   \n",
       "\n",
       "                                              lemmas  \\\n",
       "0  reduction in life expectancy in brazil after c...   \n",
       "1  animated annual change in life expectancy illu...   \n",
       "2  thoracic surgery for lung cancer data set from...   \n",
       "3  hackerrank data scientist hiring test predict ...   \n",
       "4  p align center img src http github com oxfordd...   \n",
       "\n",
       "                                             stemmed  \\\n",
       "0  reduct in life expect in brazil after covid 19...   \n",
       "1  anim annual chang in life expect illustr of re...   \n",
       "2  thorac surgeri for lung cancer data set from u...   \n",
       "3  hackerrank data scientist hire test predict li...   \n",
       "4  p align center img src http github com oxfordd...   \n",
       "\n",
       "                                          more_clean  \n",
       "0  reduction life expectancy brazil covid 19 prov...  \n",
       "1  animated annual change life expectancy illustr...  \n",
       "2  thoracic surgery lung cancer data set uci mach...  \n",
       "3  hackerrank data scientist hiring test predict ...  \n",
       "4  p align center img src http github com oxfordd...  "
      ]
     },
     "execution_count": 19,
     "metadata": {},
     "output_type": "execute_result"
    }
   ],
   "source": [
    "df.head()"
   ]
  },
  {
   "cell_type": "code",
   "execution_count": 20,
   "metadata": {},
   "outputs": [
    {
     "data": {
      "text/plain": [
       "Jupyter Notebook    46\n",
       "R                   14\n",
       "Python              12\n",
       "HTML                10\n",
       "JavaScript           7\n",
       "Stata                4\n",
       "Dart                 2\n",
       "Java                 1\n",
       "MATLAB               1\n",
       "Shell                1\n",
       "TypeScript           1\n",
       "Scala                1\n",
       "Name: language, dtype: int64"
      ]
     },
     "execution_count": 20,
     "metadata": {},
     "output_type": "execute_result"
    }
   ],
   "source": [
    "# how many languages are there?\n",
    "df['language'].value_counts()"
   ]
  },
  {
   "cell_type": "code",
   "execution_count": 21,
   "metadata": {},
   "outputs": [],
   "source": [
    "# keep top n languages\n",
    "df = prepare.keep_top_n_languages(df, n_languages=3) # set to 2 for testing\n"
   ]
  },
  {
   "cell_type": "code",
   "execution_count": 22,
   "metadata": {},
   "outputs": [
    {
     "data": {
      "text/plain": [
       "Jupyter Notebook    46\n",
       "other               36\n",
       "R                   14\n",
       "Python              12\n",
       "Name: language, dtype: int64"
      ]
     },
     "execution_count": 22,
     "metadata": {},
     "output_type": "execute_result"
    }
   ],
   "source": [
    "# how many languages are there?\n",
    "df['language'].value_counts()"
   ]
  },
  {
   "cell_type": "code",
   "execution_count": 23,
   "metadata": {},
   "outputs": [],
   "source": [
    "tfidf = TfidfVectorizer()\n",
    "X = tfidf.fit_transform(df['more_clean'])\n",
    "y = df['language']\n",
    "# X_train, X_test, y_train, y_test = train_test_split(X, y, stratify=y, test_size=.2, random_state=42)\n",
    "# X_train, X_validate, y_train, y_validate = train_test_split(X_train, y_train, stratify=y_train, test_size=.3, random_state=42)\n",
    "\n",
    "X_train, X_validate, X_test, y_train, y_validate, y_test = prepare.split_data(X, y)"
   ]
  },
  {
   "cell_type": "code",
   "execution_count": 24,
   "metadata": {},
   "outputs": [],
   "source": [
    "train = pd.DataFrame(dict(actual=y_train))\n",
    "validate = pd.DataFrame(dict(actual=y_validate))\n",
    "test = pd.DataFrame(dict(actual=y_test))\n",
    "\n",
    "lm = LogisticRegression().fit(X_train, y_train)\n",
    "\n",
    "train['predicted'] = lm.predict(X_train)\n",
    "validate['predicted'] = lm.predict(X_validate)\n",
    "test['predicted'] = lm.predict(X_test)"
   ]
  },
  {
   "cell_type": "code",
   "execution_count": 25,
   "metadata": {},
   "outputs": [
    {
     "name": "stdout",
     "output_type": "stream",
     "text": [
      "Accuracy: 68.33%\n",
      "---\n",
      "Confusion Matrix\n",
      "actual            Jupyter Notebook  Python  R  other\n",
      "predicted                                           \n",
      "Jupyter Notebook                26       5  7      5\n",
      "other                            0       1  1     15\n",
      "---\n",
      "                  precision    recall  f1-score   support\n",
      "\n",
      "Jupyter Notebook       0.60      1.00      0.75        26\n",
      "          Python       0.00      0.00      0.00         6\n",
      "               R       0.00      0.00      0.00         8\n",
      "           other       0.88      0.75      0.81        20\n",
      "\n",
      "        accuracy                           0.68        60\n",
      "       macro avg       0.37      0.44      0.39        60\n",
      "    weighted avg       0.56      0.68      0.60        60\n",
      "\n"
     ]
    }
   ],
   "source": [
    "print('Accuracy: {:.2%}'.format(accuracy_score(train.actual, train.predicted)))\n",
    "print('---')\n",
    "print('Confusion Matrix')\n",
    "print(pd.crosstab(train.predicted, train.actual))\n",
    "print('---')\n",
    "print(classification_report(train.actual, train.predicted))"
   ]
  },
  {
   "cell_type": "code",
   "execution_count": 26,
   "metadata": {},
   "outputs": [
    {
     "name": "stdout",
     "output_type": "stream",
     "text": [
      "Accuracy: 50.00%\n",
      "---\n",
      "Confusion Matrix\n",
      "actual            Jupyter Notebook  Python  R  other\n",
      "predicted                                           \n",
      "Jupyter Notebook                11       3  3      7\n",
      "other                            0       0  0      2\n",
      "---\n",
      "                  precision    recall  f1-score   support\n",
      "\n",
      "Jupyter Notebook       0.46      1.00      0.63        11\n",
      "          Python       0.00      0.00      0.00         3\n",
      "               R       0.00      0.00      0.00         3\n",
      "           other       1.00      0.22      0.36         9\n",
      "\n",
      "        accuracy                           0.50        26\n",
      "       macro avg       0.36      0.31      0.25        26\n",
      "    weighted avg       0.54      0.50      0.39        26\n",
      "\n"
     ]
    }
   ],
   "source": [
    "print('Accuracy: {:.2%}'.format(accuracy_score(validate.actual, validate.predicted)))\n",
    "print('---')\n",
    "print('Confusion Matrix')\n",
    "print(pd.crosstab(validate.predicted, validate.actual))\n",
    "print('---')\n",
    "print(classification_report(validate.actual, validate.predicted))"
   ]
  },
  {
   "cell_type": "code",
   "execution_count": 27,
   "metadata": {},
   "outputs": [
    {
     "name": "stdout",
     "output_type": "stream",
     "text": [
      "Accuracy: 45.45%\n",
      "---\n",
      "Confusion Matrix\n",
      "actual            Jupyter Notebook  Python  R  other\n",
      "predicted                                           \n",
      "Jupyter Notebook                 9       3  3      6\n",
      "other                            0       0  0      1\n",
      "---\n",
      "                  precision    recall  f1-score   support\n",
      "\n",
      "Jupyter Notebook       0.43      1.00      0.60         9\n",
      "          Python       0.00      0.00      0.00         3\n",
      "               R       0.00      0.00      0.00         3\n",
      "           other       1.00      0.14      0.25         7\n",
      "\n",
      "        accuracy                           0.45        22\n",
      "       macro avg       0.36      0.29      0.21        22\n",
      "    weighted avg       0.49      0.45      0.32        22\n",
      "\n"
     ]
    }
   ],
   "source": [
    "print('Accuracy: {:.2%}'.format(accuracy_score(test.actual, test.predicted)))\n",
    "print('---')\n",
    "print('Confusion Matrix')\n",
    "print(pd.crosstab(test.predicted, test.actual))\n",
    "print('---')\n",
    "print(classification_report(test.actual, test.predicted))"
   ]
  },
  {
   "cell_type": "code",
   "execution_count": null,
   "metadata": {},
   "outputs": [],
   "source": []
  }
 ],
 "metadata": {
  "interpreter": {
   "hash": "3067ead486e059ec00ffe7555bdb889e6e264a24dc711bf108106cc7baee8d5d"
  },
  "kernelspec": {
   "display_name": "Python 3.9.7 ('base')",
   "language": "python",
   "name": "python3"
  },
  "language_info": {
   "codemirror_mode": {
    "name": "ipython",
    "version": 3
   },
   "file_extension": ".py",
   "mimetype": "text/x-python",
   "name": "python",
   "nbconvert_exporter": "python",
   "pygments_lexer": "ipython3",
   "version": "3.9.7"
  },
  "orig_nbformat": 4
 },
 "nbformat": 4,
 "nbformat_minor": 2
}
